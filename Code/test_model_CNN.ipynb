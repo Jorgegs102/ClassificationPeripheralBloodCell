{
 "cells": [
  {
   "cell_type": "code",
   "execution_count": 1,
   "id": "8870f399",
   "metadata": {},
   "outputs": [],
   "source": [
    "from keras.models import load_model\n",
    "from tensorflow.keras.utils import load_img\n",
    "from keras.preprocessing.image import ImageDataGenerator\n",
    "import matplotlib.pyplot as plt\n",
    "\n",
    "import numpy as np"
   ]
  },
  {
   "cell_type": "code",
   "execution_count": 2,
   "id": "9a2915f5",
   "metadata": {},
   "outputs": [],
   "source": [
    "# Leemos el modelo guardado\n",
    "model = load_model('../../model/classification/image_classification_CNN.h5')"
   ]
  },
  {
   "cell_type": "code",
   "execution_count": 3,
   "id": "501c48e4",
   "metadata": {},
   "outputs": [],
   "source": [
    "test_data_dir = '../../dataset/classification/PCB_Dataset_Split/test'\n",
    "size = (360, 363)\n",
    "batch_size = 16"
   ]
  },
  {
   "cell_type": "code",
   "execution_count": 10,
   "id": "ec6d2697",
   "metadata": {},
   "outputs": [],
   "source": [
    "# Leemos una imagen del conjunto de test \n",
    "image = load_img('../../dataset/classification/PCB_Dataset_Split/val/neutrophil/BNE_191041.jpg', target_size = size)\n",
    "img = np.array(image)\n",
    "img = img / 255.0\n",
    "img = img.reshape(1, 360, 363, 3)"
   ]
  },
  {
   "cell_type": "code",
   "execution_count": 11,
   "id": "2c0b3968",
   "metadata": {},
   "outputs": [
    {
     "name": "stdout",
     "output_type": "stream",
     "text": [
      "1/1 [==============================] - 0s 26ms/step\n"
     ]
    }
   ],
   "source": [
    "# Predecimos la clase a la que pertenece\n",
    "label = model.predict(img)"
   ]
  },
  {
   "cell_type": "code",
   "execution_count": 12,
   "id": "fa8f3dfc",
   "metadata": {},
   "outputs": [
    {
     "name": "stdout",
     "output_type": "stream",
     "text": [
      "neutrophil\n"
     ]
    }
   ],
   "source": [
    "# Mapeamos la predicción con el nombre de la salida\n",
    "label_names = ['basophil', 'eosinophil', 'erythroblast', 'ig', 'lymphocyte', 'monocyte', 'neutrophil', 'platelet']\n",
    "print(label_names[np.argmax(label)])"
   ]
  },
  {
   "cell_type": "code",
   "execution_count": 13,
   "id": "d0c66ac3",
   "metadata": {},
   "outputs": [
    {
     "data": {
      "text/plain": [
       "array([[6.6474173e-04, 4.9071365e-05, 1.1076842e-03, 2.6778722e-02,\n",
       "        5.4529850e-05, 3.3029503e-06, 9.7134173e-01, 3.2414894e-07]],\n",
       "      dtype=float32)"
      ]
     },
     "execution_count": 13,
     "metadata": {},
     "output_type": "execute_result"
    }
   ],
   "source": [
    "label"
   ]
  },
  {
   "cell_type": "code",
   "execution_count": 7,
   "id": "adb21285",
   "metadata": {},
   "outputs": [
    {
     "name": "stdout",
     "output_type": "stream",
     "text": [
      "Found 1716 images belonging to 8 classes.\n"
     ]
    }
   ],
   "source": [
    "test_datagen = ImageDataGenerator(rescale = 1. / 255)\n",
    "test_generator = test_datagen.flow_from_directory(test_data_dir,\n",
    "                                                  target_size = size,\n",
    "                                                  batch_size = batch_size,\n",
    "                                                  shuffle = False,\n",
    "                                                  class_mode = 'categorical')"
   ]
  },
  {
   "cell_type": "code",
   "execution_count": 9,
   "id": "62499652",
   "metadata": {},
   "outputs": [
    {
     "name": "stderr",
     "output_type": "stream",
     "text": [
      "C:\\Users\\shiru\\AppData\\Local\\Temp\\ipykernel_8692\\558093203.py:1: UserWarning: `Model.evaluate_generator` is deprecated and will be removed in a future version. Please use `Model.evaluate`, which supports generators.\n",
      "  test_score = model.evaluate_generator(test_generator, batch_size)\n"
     ]
    },
    {
     "name": "stdout",
     "output_type": "stream",
     "text": [
      "[INFO] accuracy: 98.44%\n",
      "[INFO] Loss:  0.1844080686569214\n"
     ]
    }
   ],
   "source": [
    "test_score = model.evaluate_generator(test_generator, batch_size)\n",
    "\n",
    "print(\"[INFO] accuracy: {:.2f}%\".format(test_score[1] * 100))\n",
    "print(\"[INFO] Loss: \",test_score[0])"
   ]
  },
  {
   "cell_type": "code",
   "execution_count": 16,
   "id": "3be33f81",
   "metadata": {},
   "outputs": [],
   "source": [
    "#Plot the confusion matrix. Set Normalize = True/False\n",
    "\n",
    "def plot_confusion_matrix(cm, classes, normalize=True, title='Confusion matrix', cmap=plt.cm.Blues):\n",
    "    \"\"\"\n",
    "    This function prints and plots the confusion matrix.\n",
    "    Normalization can be applied by setting `normalize=True`.\n",
    "    \"\"\"\n",
    "    plt.figure(figsize=(10,10))\n",
    "    plt.imshow(cm, interpolation='nearest', cmap=cmap)\n",
    "    plt.title(title)\n",
    "    plt.colorbar()\n",
    "    tick_marks = np.arange(len(classes))\n",
    "    plt.xticks(tick_marks, classes, rotation=45)\n",
    "    plt.yticks(tick_marks, classes)\n",
    "    \n",
    "    if normalize:\n",
    "        cm = cm.astype('float') / cm.sum(axis=1)[:, np.newaxis]\n",
    "        cm = np.around(cm, decimals=2)\n",
    "        cm[np.isnan(cm)] = 0.0\n",
    "        print(\"Normalized confusion matrix\")\n",
    "    else:\n",
    "        print('Confusion matrix, without normalization')\n",
    "    \n",
    "    thresh = cm.max() / 2.\n",
    "    for i, j in itertools.product(range(cm.shape[0]), range(cm.shape[1])):\n",
    "        plt.text(j, i, cm[i, j],\n",
    "                 horizontalalignment=\"center\",\n",
    "                 color=\"white\" if cm[i, j] > thresh else \"black\")\n",
    "    plt.tight_layout()\n",
    "    plt.ylabel('True label')\n",
    "    plt.xlabel('Predicted label')#Print the Target names"
   ]
  },
  {
   "cell_type": "code",
   "execution_count": 17,
   "id": "dfba2244",
   "metadata": {},
   "outputs": [
    {
     "name": "stdout",
     "output_type": "stream",
     "text": [
      "108/108 [==============================] - 10s 93ms/step\n",
      "Confusion Matrix\n",
      "Confusion matrix, without normalization\n"
     ]
    },
    {
     "data": {
      "image/png": "[encoded data removed]",
      "text/plain": [
       "<Figure size 720x720 with 2 Axes>"
      ]
     },
     "metadata": {
      "needs_background": "light"
     },
     "output_type": "display_data"
    }
   ],
   "source": [
    "#Print the Target names\n",
    "from sklearn.metrics import classification_report, confusion_matrix\n",
    "import itertools \n",
    "\n",
    "#shuffle=False\n",
    "\n",
    "target_names = []\n",
    "for key in test_generator.class_indices:\n",
    "    target_names.append(key)\n",
    "\n",
    "# print(target_names)#Confution Matrix\n",
    "Y_pred = model.predict(test_generator)\n",
    "y_pred = np.argmax(Y_pred, axis=1)\n",
    "print('Confusion Matrix')\n",
    "\n",
    "cm = confusion_matrix(test_generator.classes, y_pred)\n",
    "plot_confusion_matrix(cm, target_names, title='Confusion Matrix', normalize=False)\n",
    "\n",
    "#Print Classification Report\n",
    "#print('Classification Report')\n",
    "#print(classification_report(test_generator.classes, y_pred, target_names=target_names))"
   ]
  },
  {
   "cell_type": "code",
   "execution_count": null,
   "id": "e49a4c65",
   "metadata": {},
   "outputs": [],
   "source": []
  }
 ],
 "metadata": {
  "kernelspec": {
   "display_name": "Python 3 (ipykernel)",
   "language": "python",
   "name": "python3"
  },
  "language_info": {
   "codemirror_mode": {
    "name": "ipython",
    "version": 3
   },
   "file_extension": ".py",
   "mimetype": "text/x-python",
   "name": "python",
   "nbconvert_exporter": "python",
   "pygments_lexer": "ipython3",
   "version": "3.9.12"
  }
 },
 "nbformat": 4,
 "nbformat_minor": 5
}
