{
 "cells": [
  {
   "cell_type": "markdown",
   "id": "f9755410",
   "metadata": {},
   "source": [
    "## Notebook para realizar la parte 2 del TFM: clasificación de imágenes según tipo de célula sanguínea\n",
    "\n",
    "Se tiene de entrada el dataset ____ y de salida se espera tener el acc del modelo"
   ]
  },
  {
   "cell_type": "code",
   "execution_count": 10,
   "id": "3356fb49",
   "metadata": {},
   "outputs": [],
   "source": [
    "from keras.preprocessing.image import ImageDataGenerator\n",
    "from keras.models import Sequential\n",
    "from keras.layers import Conv2D, MaxPooling2D\n",
    "from keras.layers import Activation, Dropout, Flatten, Dense\n",
    "from keras import backend as K\n",
    "import matplotlib.pyplot as plt\n",
    "  \n",
    "img_width, img_height = 360, 363"
   ]
  },
  {
   "cell_type": "code",
   "execution_count": 2,
   "id": "2fbd9e15",
   "metadata": {},
   "outputs": [],
   "source": [
    "train_data_dir = '../../dataset/classification/PCB_Dataset_Split/train'\n",
    "validation_data_dir = '../../dataset/classification/PCB_Dataset_Split/val'\n",
    "\n",
    "nb_train_samples = 13671  \n",
    "nb_validation_samples = 1705 \n",
    "\n",
    "epochs = 10\n",
    "batch_size = 16"
   ]
  },
  {
   "cell_type": "code",
   "execution_count": 3,
   "id": "51cdcdda",
   "metadata": {},
   "outputs": [],
   "source": [
    "if K.image_data_format() == 'channels_first':\n",
    "    input_shape = (3, img_width, img_height)\n",
    "else:\n",
    "    input_shape = (img_width, img_height, 3)"
   ]
  },
  {
   "cell_type": "code",
   "execution_count": 4,
   "id": "16f72477",
   "metadata": {},
   "outputs": [
    {
     "name": "stdout",
     "output_type": "stream",
     "text": [
      "Found 13671 images belonging to 8 classes.\n",
      "Found 1705 images belonging to 8 classes.\n"
     ]
    }
   ],
   "source": [
    "train_datagen = ImageDataGenerator(\n",
    "    rescale = 1. / 255,\n",
    "    shear_range = 0.2,\n",
    "    zoom_range = 0.2,\n",
    "    horizontal_flip = True)\n",
    "  \n",
    "val_datagen = ImageDataGenerator(rescale = 1. / 255)\n",
    "  \n",
    "train_generator = train_datagen.flow_from_directory(\n",
    "    train_data_dir,\n",
    "    target_size = (img_width, img_height),\n",
    "    batch_size = batch_size,\n",
    "    class_mode = 'categorical')\n",
    "  \n",
    "validation_generator = val_datagen.flow_from_directory(\n",
    "    validation_data_dir,\n",
    "    target_size = (img_width, img_height),\n",
    "    batch_size = batch_size,\n",
    "    class_mode = 'categorical')"
   ]
  },
  {
   "cell_type": "code",
   "execution_count": 5,
   "id": "939e6d8a",
   "metadata": {},
   "outputs": [
    {
     "name": "stdout",
     "output_type": "stream",
     "text": [
      "Model: \"sequential\"\n",
      "_________________________________________________________________\n",
      " Layer (type)                Output Shape              Param #   \n",
      "=================================================================\n",
      " conv2d (Conv2D)             (None, 359, 362, 32)      416       \n",
      "                                                                 \n",
      " activation (Activation)     (None, 359, 362, 32)      0         \n",
      "                                                                 \n",
      " max_pooling2d (MaxPooling2D  (None, 179, 181, 32)     0         \n",
      " )                                                               \n",
      "                                                                 \n",
      " conv2d_1 (Conv2D)           (None, 178, 180, 32)      4128      \n",
      "                                                                 \n",
      " activation_1 (Activation)   (None, 178, 180, 32)      0         \n",
      "                                                                 \n",
      " max_pooling2d_1 (MaxPooling  (None, 89, 90, 32)       0         \n",
      " 2D)                                                             \n",
      "                                                                 \n",
      " conv2d_2 (Conv2D)           (None, 88, 89, 64)        8256      \n",
      "                                                                 \n",
      " activation_2 (Activation)   (None, 88, 89, 64)        0         \n",
      "                                                                 \n",
      " max_pooling2d_2 (MaxPooling  (None, 44, 44, 64)       0         \n",
      " 2D)                                                             \n",
      "                                                                 \n",
      " flatten (Flatten)           (None, 123904)            0         \n",
      "                                                                 \n",
      " dense (Dense)               (None, 64)                7929920   \n",
      "                                                                 \n",
      " activation_3 (Activation)   (None, 64)                0         \n",
      "                                                                 \n",
      " dropout (Dropout)           (None, 64)                0         \n",
      "                                                                 \n",
      " dense_1 (Dense)             (None, 8)                 520       \n",
      "                                                                 \n",
      " activation_4 (Activation)   (None, 8)                 0         \n",
      "                                                                 \n",
      "=================================================================\n",
      "Total params: 7,943,240\n",
      "Trainable params: 7,943,240\n",
      "Non-trainable params: 0\n",
      "_________________________________________________________________\n"
     ]
    }
   ],
   "source": [
    "# Modelo de prueba CNN\n",
    "\n",
    "model = Sequential()\n",
    "model.add(Conv2D(32, (2, 2), input_shape=input_shape))\n",
    "model.add(Activation('relu'))\n",
    "model.add(MaxPooling2D(pool_size=(2, 2)))\n",
    "  \n",
    "model.add(Conv2D(32, (2, 2)))\n",
    "model.add(Activation('relu'))\n",
    "model.add(MaxPooling2D(pool_size=(2, 2)))\n",
    "  \n",
    "model.add(Conv2D(64, (2, 2)))\n",
    "model.add(Activation('relu'))\n",
    "model.add(MaxPooling2D(pool_size=(2, 2)))\n",
    "  \n",
    "model.add(Flatten())\n",
    "model.add(Dense(64))\n",
    "model.add(Activation('relu'))\n",
    "model.add(Dropout(0.5))\n",
    "model.add(Dense(8))\n",
    "model.add(Activation('softmax'))\n",
    "\n",
    "model.summary()"
   ]
  },
  {
   "cell_type": "code",
   "execution_count": 6,
   "id": "ac636271",
   "metadata": {},
   "outputs": [],
   "source": [
    "model.compile(loss = 'categorical_crossentropy',\n",
    "              optimizer = 'rmsprop',\n",
    "              metrics = ['accuracy'])"
   ]
  },
  {
   "cell_type": "code",
   "execution_count": 7,
   "id": "1857e44a",
   "metadata": {},
   "outputs": [
    {
     "name": "stderr",
     "output_type": "stream",
     "text": [
      "C:\\Users\\shiru\\AppData\\Local\\Temp\\ipykernel_17948\\2051623620.py:1: UserWarning: `Model.fit_generator` is deprecated and will be removed in a future version. Please use `Model.fit`, which supports generators.\n",
      "  history = model.fit_generator(\n"
     ]
    },
    {
     "name": "stdout",
     "output_type": "stream",
     "text": [
      "Epoch 1/10\n",
      "854/854 [==============================] - 820s 952ms/step - loss: 1.0580 - accuracy: 0.6170 - val_loss: 0.4412 - val_accuracy: 0.8827\n",
      "Epoch 2/10\n",
      "854/854 [==============================] - 626s 733ms/step - loss: 0.6073 - accuracy: 0.7954 - val_loss: 0.3343 - val_accuracy: 0.8974\n",
      "Epoch 3/10\n",
      "854/854 [==============================] - 626s 733ms/step - loss: 0.5120 - accuracy: 0.8298 - val_loss: 0.2887 - val_accuracy: 0.9151\n",
      "Epoch 4/10\n",
      "854/854 [==============================] - 629s 736ms/step - loss: 0.4622 - accuracy: 0.8555 - val_loss: 0.3991 - val_accuracy: 0.8679\n",
      "Epoch 5/10\n",
      "854/854 [==============================] - 628s 735ms/step - loss: 0.4243 - accuracy: 0.8683 - val_loss: 0.4510 - val_accuracy: 0.8815\n",
      "Epoch 6/10\n",
      "854/854 [==============================] - 676s 791ms/step - loss: 0.4159 - accuracy: 0.8794 - val_loss: 0.2866 - val_accuracy: 0.9210\n",
      "Epoch 7/10\n",
      "854/854 [==============================] - 720s 843ms/step - loss: 0.3999 - accuracy: 0.8778 - val_loss: 0.3063 - val_accuracy: 0.9316\n",
      "Epoch 8/10\n",
      "854/854 [==============================] - 722s 845ms/step - loss: 0.4107 - accuracy: 0.8770 - val_loss: 0.3294 - val_accuracy: 0.9098\n",
      "Epoch 9/10\n",
      "854/854 [==============================] - 727s 851ms/step - loss: 0.3974 - accuracy: 0.8856 - val_loss: 0.2559 - val_accuracy: 0.9257\n",
      "Epoch 10/10\n",
      "854/854 [==============================] - 701s 821ms/step - loss: 0.3972 - accuracy: 0.8868 - val_loss: 0.2749 - val_accuracy: 0.9316\n"
     ]
    }
   ],
   "source": [
    "history = model.fit_generator(\n",
    "                        train_generator,\n",
    "                        steps_per_epoch = nb_train_samples // batch_size,\n",
    "                        epochs = epochs,\n",
    "                        validation_data = validation_generator,\n",
    "                        validation_steps = nb_validation_samples // batch_size)"
   ]
  },
  {
   "cell_type": "code",
   "execution_count": 15,
   "id": "b3ed428f",
   "metadata": {},
   "outputs": [],
   "source": [
    "# Guardamos el modelo\n",
    "model.save(\n",
    "    '../../model/classification/image_classification_CNN.h5',\n",
    "    overwrite=True,\n",
    "    include_optimizer=True,\n",
    "    save_format=None,\n",
    "    signatures=None,\n",
    "    options=None,\n",
    "    save_traces=True,\n",
    ")"
   ]
  },
  {
   "cell_type": "code",
   "execution_count": 11,
   "id": "f2b819e1",
   "metadata": {},
   "outputs": [
    {
     "name": "stdout",
     "output_type": "stream",
     "text": [
      "dict_keys(['loss', 'accuracy', 'val_loss', 'val_accuracy'])\n"
     ]
    },
    {
     "data": {
      "image/png": "[encoded data removed]",
      "text/plain": [
       "<Figure size 432x288 with 1 Axes>"
      ]
     },
     "metadata": {
      "needs_background": "light"
     },
     "output_type": "display_data"
    },
    {
     "data": {
      "image/png": "[encoded data removed]",
      "text/plain": [
       "<Figure size 432x288 with 1 Axes>"
      ]
     },
     "metadata": {
      "needs_background": "light"
     },
     "output_type": "display_data"
    }
   ],
   "source": [
    "# Printeamos las gráficas de acc y loss\n",
    "print(history.history.keys())\n",
    "\n",
    "# acc\n",
    "plt.plot(history.history['accuracy'])\n",
    "plt.plot(history.history['val_accuracy'])\n",
    "plt.title('model accuracy')\n",
    "plt.ylabel('accuracy')\n",
    "plt.xlabel('epoch')\n",
    "plt.legend(['train', 'val'], loc='upper left')\n",
    "plt.show()\n",
    "\n",
    "# loss\n",
    "plt.plot(history.history['loss'])\n",
    "plt.plot(history.history['val_loss'])\n",
    "plt.title('model loss')\n",
    "plt.ylabel('loss')\n",
    "plt.xlabel('epoch')\n",
    "plt.legend(['train', 'val'], loc='upper left')\n",
    "plt.show()"
   ]
  }
 ],
 "metadata": {
  "kernelspec": {
   "display_name": "Python 3 (ipykernel)",
   "language": "python",
   "name": "python3"
  },
  "language_info": {
   "codemirror_mode": {
    "name": "ipython",
    "version": 3
   },
   "file_extension": ".py",
   "mimetype": "text/x-python",
   "name": "python",
   "nbconvert_exporter": "python",
   "pygments_lexer": "ipython3",
   "version": "3.9.12"
  }
 },
 "nbformat": 4,
 "nbformat_minor": 5
}
